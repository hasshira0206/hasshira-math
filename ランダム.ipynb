{
  "nbformat": 4,
  "nbformat_minor": 0,
  "metadata": {
    "colab": {
      "name": "Untitled0.ipynb",
      "provenance": [],
      "authorship_tag": "ABX9TyPpAtvhLpQ1JPpvs3TsSSSq",
      "include_colab_link": true
    },
    "kernelspec": {
      "name": "python3",
      "display_name": "Python 3"
    },
    "language_info": {
      "name": "python"
    }
  },
  "cells": [
    {
      "cell_type": "markdown",
      "metadata": {
        "id": "view-in-github",
        "colab_type": "text"
      },
      "source": [
        "<a href=\"https://colab.research.google.com/github/hasshira0206/hasshira-math/blob/main/%E3%83%A9%E3%83%B3%E3%83%80%E3%83%A0.ipynb\" target=\"_parent\"><img src=\"https://colab.research.google.com/assets/colab-badge.svg\" alt=\"Open In Colab\"/></a>"
      ]
    },
    {
      "cell_type": "code",
      "execution_count": null,
      "metadata": {
        "id": "R43EPYfwbmc_"
      },
      "outputs": [],
      "source": [
        "#試行回数を入力してください。確率を確実に出してみましょう。\n",
        "import random\n",
        "N=int(input())\n",
        "lis=[]\n",
        "for num in range(1,N+1):\n",
        "  lis.append(random.randint(1,6))\n",
        "for n in range(1,7):\n",
        "  print(float(lis.count(n)/len(lis)))"
      ]
    }
  ]
}